{
 "cells": [
  {
   "cell_type": "code",
   "execution_count": 1,
   "metadata": {
    "collapsed": true
   },
   "outputs": [],
   "source": [
    "import pandas as pd"
   ]
  },
  {
   "cell_type": "code",
   "execution_count": 2,
   "metadata": {
    "collapsed": true
   },
   "outputs": [],
   "source": [
    "import numpy as np"
   ]
  },
  {
   "cell_type": "code",
   "execution_count": 3,
   "metadata": {
    "collapsed": false
   },
   "outputs": [
    {
     "data": {
      "text/plain": [
       "{'input': array([[ 0.01377592,  0.01807902,  0.01469597, ...,  0.        ,\n",
       "          0.        ,  0.        ],\n",
       "        [ 0.00993565,  0.01161519,  0.01946291, ...,  0.        ,\n",
       "          0.        ,  0.        ],\n",
       "        [ 0.01768707,  0.01775088,  0.0227757 , ...,  0.        ,\n",
       "          0.        ,  0.        ],\n",
       "        ..., \n",
       "        [ 0.00033973,  0.00041881,  0.00040371, ...,  0.        ,\n",
       "          0.        ,  0.        ],\n",
       "        [ 0.00086592,  0.00114767,  0.00110031, ...,  0.        ,\n",
       "          0.        ,  0.        ],\n",
       "        [ 0.0003496 ,  0.00108038,  0.00136353, ...,  0.        ,\n",
       "          0.        ,  0.        ]], dtype=float32),\n",
       " 'output': array([0, 0, 0, ..., 5, 5, 5]),\n",
       " 'sound_type': {0: 'bass',\n",
       "  1: 'clap',\n",
       "  2: 'hihat',\n",
       "  3: 'kick',\n",
       "  4: 'percussion',\n",
       "  5: 'snare'}}"
      ]
     },
     "execution_count": 3,
     "metadata": {},
     "output_type": "execute_result"
    }
   ],
   "source": [
    "pd.read_pickle('./dataset/f0.03b0.03logTruecomp100.0.pkl')"
   ]
  },
  {
   "cell_type": "code",
   "execution_count": 4,
   "metadata": {
    "collapsed": true
   },
   "outputs": [],
   "source": [
    "demo_list = [[1,2,3], [4,5,6]]"
   ]
  },
  {
   "cell_type": "code",
   "execution_count": 5,
   "metadata": {
    "collapsed": true
   },
   "outputs": [],
   "source": [
    "df = pd.DataFrame(demo_list)"
   ]
  },
  {
   "cell_type": "code",
   "execution_count": 6,
   "metadata": {
    "collapsed": false
   },
   "outputs": [
    {
     "data": {
      "text/html": [
       "<div>\n",
       "<table border=\"1\" class=\"dataframe\">\n",
       "  <thead>\n",
       "    <tr style=\"text-align: right;\">\n",
       "      <th></th>\n",
       "      <th>0</th>\n",
       "      <th>1</th>\n",
       "      <th>2</th>\n",
       "    </tr>\n",
       "  </thead>\n",
       "  <tbody>\n",
       "    <tr>\n",
       "      <th>0</th>\n",
       "      <td>1</td>\n",
       "      <td>2</td>\n",
       "      <td>3</td>\n",
       "    </tr>\n",
       "    <tr>\n",
       "      <th>1</th>\n",
       "      <td>4</td>\n",
       "      <td>5</td>\n",
       "      <td>6</td>\n",
       "    </tr>\n",
       "  </tbody>\n",
       "</table>\n",
       "</div>"
      ],
      "text/plain": [
       "   0  1  2\n",
       "0  1  2  3\n",
       "1  4  5  6"
      ]
     },
     "execution_count": 6,
     "metadata": {},
     "output_type": "execute_result"
    }
   ],
   "source": [
    "df"
   ]
  },
  {
   "cell_type": "code",
   "execution_count": 7,
   "metadata": {
    "collapsed": false
   },
   "outputs": [
    {
     "data": {
      "text/plain": [
       "0    1\n",
       "1    2\n",
       "2    3\n",
       "Name: 0, dtype: int64"
      ]
     },
     "execution_count": 7,
     "metadata": {},
     "output_type": "execute_result"
    }
   ],
   "source": [
    "df.loc[0]"
   ]
  },
  {
   "cell_type": "code",
   "execution_count": 8,
   "metadata": {
    "collapsed": false
   },
   "outputs": [],
   "source": [
    "df.to_csv('./demo.csv', header=['h','i','!'])"
   ]
  },
  {
   "cell_type": "code",
   "execution_count": 9,
   "metadata": {
    "collapsed": false
   },
   "outputs": [
    {
     "name": "stdout",
     "output_type": "stream",
     "text": [
      "total 316\r\n",
      "drwxrwxr-x 11 maestoj maestoj   4096  6월 16 00:58 .\r\n",
      "drwxrwxr-x  8 maestoj maestoj   4096  6월  4 14:36 ..\r\n",
      "drwxrwxr-x  2 maestoj maestoj   4096  6월 15 23:41 asset\r\n",
      "drwxrwxr-x  2 maestoj maestoj   4096  5월  9 10:16 dataset\r\n",
      "-rw-rw-r--  1 maestoj maestoj     23  6월 16 01:09 demo.csv\r\n",
      "drwxrwxr-x  8 maestoj maestoj   4096  5월 10 19:07 .git\r\n",
      "-rw-rw-r--  1 maestoj maestoj     58  5월  9 10:16 .gitignore\r\n",
      "drwxr-xr-x  2 maestoj maestoj   4096  6월  5 22:26 .ipynb_checkpoints\r\n",
      "drwxrwxr-x  5 maestoj maestoj   4096  5월  9 10:16 models\r\n",
      "drwxrwxr-x  4 maestoj maestoj   4096  5월  9 10:16 models_save\r\n",
      "-rw-rw-r--  1 maestoj maestoj   3496  6월 15 23:44 onset_classifier.py\r\n",
      "drwxrwxr-x  2 maestoj maestoj   4096  6월 16 00:41 preprocess\r\n",
      "drwxrwxr-x  2 maestoj maestoj   4096  6월 15 23:29 __pycache__\r\n",
      "-rw-rw-r--  1 maestoj maestoj   3273  5월  9 10:16 README.md\r\n",
      "-rw-rw-r--  1 maestoj maestoj 249490  6월 16 00:58 tester.ipynb\r\n",
      "drwxrwxr-x  2 maestoj maestoj   4096  6월 16 00:10 test_sounds\r\n",
      "-rw-rw-r--  1 maestoj maestoj   6162  6월  5 22:38 Untitled.ipynb\r\n",
      "-rw-rw-r--  1 maestoj maestoj   3237  6월 15 23:02 utils.py\r\n"
     ]
    }
   ],
   "source": [
    "!ls -la"
   ]
  },
  {
   "cell_type": "code",
   "execution_count": 1,
   "metadata": {
    "collapsed": false
   },
   "outputs": [
    {
     "data": {
      "text/plain": [
       "['pca1', 'pca2', 'pca3', 'pca4', 'pca5', 'pca6', 'pca7', 'pca8', 'pca9']"
      ]
     },
     "execution_count": 1,
     "metadata": {},
     "output_type": "execute_result"
    }
   ],
   "source": [
    "[\"pca{}\".format(i) for i in range(1, 10)]"
   ]
  },
  {
   "cell_type": "code",
   "execution_count": 2,
   "metadata": {
    "collapsed": false
   },
   "outputs": [
    {
     "data": {
      "text/plain": [
       "[2, 3, 4, 5]"
      ]
     },
     "execution_count": 2,
     "metadata": {},
     "output_type": "execute_result"
    }
   ],
   "source": [
    "[2,3]+[4,5]"
   ]
  }
 ],
 "metadata": {
  "kernelspec": {
   "display_name": "Python 3",
   "language": "python",
   "name": "python3"
  },
  "language_info": {
   "codemirror_mode": {
    "name": "ipython",
    "version": 3
   },
   "file_extension": ".py",
   "mimetype": "text/x-python",
   "name": "python",
   "nbconvert_exporter": "python",
   "pygments_lexer": "ipython3",
   "version": "3.6.0"
  }
 },
 "nbformat": 4,
 "nbformat_minor": 2
}
